{
 "cells": [
  {
   "cell_type": "markdown",
   "id": "7d9fa2b2",
   "metadata": {},
   "source": [
    "# Vim Sensei\n",
    "\n",
    "Make Vim discoverable!"
   ]
  },
  {
   "cell_type": "code",
   "execution_count": null,
   "id": "8d395b62",
   "metadata": {},
   "outputs": [],
   "source": [
    "from collections import Counter\n",
    "from pprint import pprint"
   ]
  },
  {
   "cell_type": "code",
   "execution_count": null,
   "id": "94c2cbb1",
   "metadata": {},
   "outputs": [],
   "source": [
    "ascii_control_codes = {\n",
    "    '\\\\x00': '^@',\n",
    "    '\\\\x01': '^A',\n",
    "    '\\\\x02': '^B',\n",
    "    '\\\\x03': '^C',\n",
    "    '\\\\x04': '^D',\n",
    "    '\\\\x05': '^E',\n",
    "    '\\\\x06': '^F',\n",
    "    '\\\\x07': '^G',\n",
    "    '\\\\x08': '^H',\n",
    "    '\\\\x09': '^I',\n",
    "    '\\\\x0a': '^J',\n",
    "    '\\\\x0b': '^K',\n",
    "    '\\\\x0c': '^L',\n",
    "    '\\\\x0d': '^M',\n",
    "    '\\\\x0e': '^N',\n",
    "    '\\\\x0f': '^O',\n",
    "    '\\\\x10': '^P',\n",
    "    '\\\\x11': '^Q',\n",
    "    '\\\\x12': '^R',\n",
    "    '\\\\x13': '^S',\n",
    "    '\\\\x14': '^T',\n",
    "    '\\\\x15': '^U',\n",
    "    '\\\\x16': '^V',\n",
    "    '\\\\x17': '^W',\n",
    "    '\\\\x18': '^X',\n",
    "    '\\\\x19': '^Y',\n",
    "    '\\\\x1a': '^Z',\n",
    "    '\\\\x1b': '^[',\n",
    "    '\\\\x1c': '^\\\\',\n",
    "    '\\\\x1d': '^]',\n",
    "    '\\\\x1e': '^^',\n",
    "    '\\\\x1f': '^_',\n",
    "    '\\\\x7f': '^?',\n",
    "}\n",
    "\n",
    "def human_readable(token):\n",
    "    if token in ascii_control_codes:\n",
    "        return ascii_control_codes[token]\n",
    "    return token"
   ]
  },
  {
   "cell_type": "code",
   "execution_count": null,
   "id": "4a338906",
   "metadata": {},
   "outputs": [],
   "source": [
    "frequencies_for_tokens = Counter()\n",
    "frequencies_for_bigrams = Counter()\n",
    "frequencies_for_trigrams = Counter()\n",
    "previous_token = None\n",
    "preprevious_token = None\n",
    "with open('vim.log', 'r') as f:\n",
    "    for line in f:\n",
    "        token = line.replace('\\n', '')\n",
    "        token = human_readable(token)\n",
    "        frequencies_for_tokens[token] += 1\n",
    "        if previous_token is not None:\n",
    "            frequencies_for_bigrams[previous_token+token] += 1\n",
    "        if preprevious_token is not None:\n",
    "            frequencies_for_trigrams[preprevious_token+previous_token+token] += 1\n",
    "        preprevious_token = previous_token\n",
    "        previous_token = token"
   ]
  },
  {
   "cell_type": "code",
   "execution_count": 15,
   "id": "d3f61502",
   "metadata": {
    "scrolled": true
   },
   "outputs": [
    {
     "name": "stdout",
     "output_type": "stream",
     "text": [
      "[('j', 53763),\n",
      " ('k', 38341),\n",
      " ('w', 27019),\n",
      " ('n', 14119),\n",
      " (':', 13744),\n",
      " ('0', 11727),\n",
      " ('l', 11093),\n",
      " ('z', 10013),\n",
      " (' ', 9536),\n",
      " ('g', 8082)]\n"
     ]
    }
   ],
   "source": [
    "pprint(frequencies_for_tokens.most_common(10))"
   ]
  },
  {
   "cell_type": "code",
   "execution_count": 16,
   "id": "98833c44",
   "metadata": {
    "scrolled": true
   },
   "outputs": [
    {
     "name": "stdout",
     "output_type": "stream",
     "text": [
      "[('jj', 31268),\n",
      " ('kk', 21010),\n",
      " ('ww', 9193),\n",
      " ('nn', 7571),\n",
      " ('0w', 6993),\n",
      " ('^D^D', 5367),\n",
      " ('jk', 4747),\n",
      " ('kj', 3719),\n",
      " ('zz', 3692),\n",
      " ('ll', 3049)]\n"
     ]
    }
   ],
   "source": [
    "pprint(frequencies_for_bigrams.most_common(10))"
   ]
  },
  {
   "cell_type": "code",
   "execution_count": 17,
   "id": "52f2a82d",
   "metadata": {
    "scrolled": true
   },
   "outputs": [
    {
     "name": "stdout",
     "output_type": "stream",
     "text": [
      "[('jjj', 21271),\n",
      " ('kkk', 13747),\n",
      " ('nnn', 4991),\n",
      " ('www', 4924),\n",
      " ('^D^D^D', 3937),\n",
      " ('jjjjj', 2558),\n",
      " ('jjk', 2001),\n",
      " ('jkk', 1842),\n",
      " ('0w:', 1808),\n",
      " ('jjjj', 1803)]\n"
     ]
    }
   ],
   "source": [
    "pprint(frequencies_for_trigrams.most_common(10))"
   ]
  },
  {
   "cell_type": "markdown",
   "id": "12e6cefe",
   "metadata": {},
   "source": [
    "## TODO\n",
    "\n",
    "1. Break up clumped tokens"
   ]
  }
 ],
 "metadata": {
  "kernelspec": {
   "display_name": "Python 3",
   "language": "python",
   "name": "python3"
  },
  "language_info": {
   "codemirror_mode": {
    "name": "ipython",
    "version": 3
   },
   "file_extension": ".py",
   "mimetype": "text/x-python",
   "name": "python",
   "nbconvert_exporter": "python",
   "pygments_lexer": "ipython3",
   "version": "3.10.6"
  }
 },
 "nbformat": 4,
 "nbformat_minor": 5
}
